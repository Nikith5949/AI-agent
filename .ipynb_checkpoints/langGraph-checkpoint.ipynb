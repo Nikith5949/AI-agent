{
 "cells": [
  {
   "cell_type": "markdown",
   "id": "540b9622-0b8c-467a-8406-8c4f36b713fe",
   "metadata": {},
   "source": [
    "# Langchain"
   ]
  },
  {
   "cell_type": "code",
   "execution_count": 26,
   "id": "177e1e5b-677b-4a2e-acec-d00141871ed0",
   "metadata": {},
   "outputs": [
    {
     "name": "stdout",
     "output_type": "stream",
     "text": [
      "Found existing installation: langchain 0.3.14\n",
      "Uninstalling langchain-0.3.14:\n",
      "  Successfully uninstalled langchain-0.3.14\n",
      "Collecting langchain\n",
      "  Using cached langchain-0.3.14-py3-none-any.whl.metadata (7.1 kB)\n",
      "Requirement already satisfied: PyYAML>=5.3 in /opt/anaconda3/envs/py311/lib/python3.11/site-packages (from langchain) (6.0.2)\n",
      "Requirement already satisfied: SQLAlchemy<3,>=1.4 in /opt/anaconda3/envs/py311/lib/python3.11/site-packages (from langchain) (2.0.37)\n",
      "Requirement already satisfied: aiohttp<4.0.0,>=3.8.3 in /opt/anaconda3/envs/py311/lib/python3.11/site-packages (from langchain) (3.11.11)\n",
      "Requirement already satisfied: langchain-core<0.4.0,>=0.3.29 in /opt/anaconda3/envs/py311/lib/python3.11/site-packages (from langchain) (0.3.29)\n",
      "Requirement already satisfied: langchain-text-splitters<0.4.0,>=0.3.3 in /opt/anaconda3/envs/py311/lib/python3.11/site-packages (from langchain) (0.3.5)\n",
      "Requirement already satisfied: langsmith<0.3,>=0.1.17 in /opt/anaconda3/envs/py311/lib/python3.11/site-packages (from langchain) (0.2.10)\n",
      "Requirement already satisfied: numpy<2,>=1.22.4 in /opt/anaconda3/envs/py311/lib/python3.11/site-packages (from langchain) (1.26.4)\n",
      "Requirement already satisfied: pydantic<3.0.0,>=2.7.4 in /opt/anaconda3/envs/py311/lib/python3.11/site-packages (from langchain) (2.10.5)\n",
      "Requirement already satisfied: requests<3,>=2 in /opt/anaconda3/envs/py311/lib/python3.11/site-packages (from langchain) (2.32.3)\n",
      "Requirement already satisfied: tenacity!=8.4.0,<10,>=8.1.0 in /opt/anaconda3/envs/py311/lib/python3.11/site-packages (from langchain) (9.0.0)\n",
      "Requirement already satisfied: aiohappyeyeballs>=2.3.0 in /opt/anaconda3/envs/py311/lib/python3.11/site-packages (from aiohttp<4.0.0,>=3.8.3->langchain) (2.4.4)\n",
      "Requirement already satisfied: aiosignal>=1.1.2 in /opt/anaconda3/envs/py311/lib/python3.11/site-packages (from aiohttp<4.0.0,>=3.8.3->langchain) (1.3.2)\n",
      "Requirement already satisfied: attrs>=17.3.0 in /opt/anaconda3/envs/py311/lib/python3.11/site-packages (from aiohttp<4.0.0,>=3.8.3->langchain) (24.3.0)\n",
      "Requirement already satisfied: frozenlist>=1.1.1 in /opt/anaconda3/envs/py311/lib/python3.11/site-packages (from aiohttp<4.0.0,>=3.8.3->langchain) (1.5.0)\n",
      "Requirement already satisfied: multidict<7.0,>=4.5 in /opt/anaconda3/envs/py311/lib/python3.11/site-packages (from aiohttp<4.0.0,>=3.8.3->langchain) (6.1.0)\n",
      "Requirement already satisfied: propcache>=0.2.0 in /opt/anaconda3/envs/py311/lib/python3.11/site-packages (from aiohttp<4.0.0,>=3.8.3->langchain) (0.2.1)\n",
      "Requirement already satisfied: yarl<2.0,>=1.17.0 in /opt/anaconda3/envs/py311/lib/python3.11/site-packages (from aiohttp<4.0.0,>=3.8.3->langchain) (1.18.3)\n",
      "Requirement already satisfied: jsonpatch<2.0,>=1.33 in /opt/anaconda3/envs/py311/lib/python3.11/site-packages (from langchain-core<0.4.0,>=0.3.29->langchain) (1.33)\n",
      "Requirement already satisfied: packaging<25,>=23.2 in /opt/anaconda3/envs/py311/lib/python3.11/site-packages (from langchain-core<0.4.0,>=0.3.29->langchain) (24.2)\n",
      "Requirement already satisfied: typing-extensions>=4.7 in /opt/anaconda3/envs/py311/lib/python3.11/site-packages (from langchain-core<0.4.0,>=0.3.29->langchain) (4.12.2)\n",
      "Requirement already satisfied: httpx<1,>=0.23.0 in /opt/anaconda3/envs/py311/lib/python3.11/site-packages (from langsmith<0.3,>=0.1.17->langchain) (0.28.1)\n",
      "Requirement already satisfied: orjson<4.0.0,>=3.9.14 in /opt/anaconda3/envs/py311/lib/python3.11/site-packages (from langsmith<0.3,>=0.1.17->langchain) (3.10.14)\n",
      "Requirement already satisfied: requests-toolbelt<2.0.0,>=1.0.0 in /opt/anaconda3/envs/py311/lib/python3.11/site-packages (from langsmith<0.3,>=0.1.17->langchain) (1.0.0)\n",
      "Requirement already satisfied: annotated-types>=0.6.0 in /opt/anaconda3/envs/py311/lib/python3.11/site-packages (from pydantic<3.0.0,>=2.7.4->langchain) (0.7.0)\n",
      "Requirement already satisfied: pydantic-core==2.27.2 in /opt/anaconda3/envs/py311/lib/python3.11/site-packages (from pydantic<3.0.0,>=2.7.4->langchain) (2.27.2)\n",
      "Requirement already satisfied: charset-normalizer<4,>=2 in /opt/anaconda3/envs/py311/lib/python3.11/site-packages (from requests<3,>=2->langchain) (3.4.1)\n",
      "Requirement already satisfied: idna<4,>=2.5 in /opt/anaconda3/envs/py311/lib/python3.11/site-packages (from requests<3,>=2->langchain) (3.10)\n",
      "Requirement already satisfied: urllib3<3,>=1.21.1 in /opt/anaconda3/envs/py311/lib/python3.11/site-packages (from requests<3,>=2->langchain) (2.3.0)\n",
      "Requirement already satisfied: certifi>=2017.4.17 in /opt/anaconda3/envs/py311/lib/python3.11/site-packages (from requests<3,>=2->langchain) (2024.12.14)\n",
      "Requirement already satisfied: greenlet!=0.4.17 in /opt/anaconda3/envs/py311/lib/python3.11/site-packages (from SQLAlchemy<3,>=1.4->langchain) (3.1.1)\n",
      "Requirement already satisfied: anyio in /opt/anaconda3/envs/py311/lib/python3.11/site-packages (from httpx<1,>=0.23.0->langsmith<0.3,>=0.1.17->langchain) (4.8.0)\n",
      "Requirement already satisfied: httpcore==1.* in /opt/anaconda3/envs/py311/lib/python3.11/site-packages (from httpx<1,>=0.23.0->langsmith<0.3,>=0.1.17->langchain) (1.0.7)\n",
      "Requirement already satisfied: h11<0.15,>=0.13 in /opt/anaconda3/envs/py311/lib/python3.11/site-packages (from httpcore==1.*->httpx<1,>=0.23.0->langsmith<0.3,>=0.1.17->langchain) (0.14.0)\n",
      "Requirement already satisfied: jsonpointer>=1.9 in /opt/anaconda3/envs/py311/lib/python3.11/site-packages (from jsonpatch<2.0,>=1.33->langchain-core<0.4.0,>=0.3.29->langchain) (3.0.0)\n",
      "Requirement already satisfied: sniffio>=1.1 in /opt/anaconda3/envs/py311/lib/python3.11/site-packages (from anyio->httpx<1,>=0.23.0->langsmith<0.3,>=0.1.17->langchain) (1.3.1)\n",
      "Using cached langchain-0.3.14-py3-none-any.whl (1.0 MB)\n",
      "Installing collected packages: langchain\n",
      "Successfully installed langchain-0.3.14\n",
      "Python 3.11.11\n",
      "Requirement already satisfied: langchain-openai in /opt/anaconda3/envs/py311/lib/python3.11/site-packages (0.3.0)\n",
      "Requirement already satisfied: langchain-core<0.4.0,>=0.3.29 in /opt/anaconda3/envs/py311/lib/python3.11/site-packages (from langchain-openai) (0.3.29)\n",
      "Requirement already satisfied: openai<2.0.0,>=1.58.1 in /opt/anaconda3/envs/py311/lib/python3.11/site-packages (from langchain-openai) (1.59.6)\n",
      "Requirement already satisfied: tiktoken<1,>=0.7 in /opt/anaconda3/envs/py311/lib/python3.11/site-packages (from langchain-openai) (0.8.0)\n",
      "Requirement already satisfied: PyYAML>=5.3 in /opt/anaconda3/envs/py311/lib/python3.11/site-packages (from langchain-core<0.4.0,>=0.3.29->langchain-openai) (6.0.2)\n",
      "Requirement already satisfied: jsonpatch<2.0,>=1.33 in /opt/anaconda3/envs/py311/lib/python3.11/site-packages (from langchain-core<0.4.0,>=0.3.29->langchain-openai) (1.33)\n",
      "Requirement already satisfied: langsmith<0.3,>=0.1.125 in /opt/anaconda3/envs/py311/lib/python3.11/site-packages (from langchain-core<0.4.0,>=0.3.29->langchain-openai) (0.2.10)\n",
      "Requirement already satisfied: packaging<25,>=23.2 in /opt/anaconda3/envs/py311/lib/python3.11/site-packages (from langchain-core<0.4.0,>=0.3.29->langchain-openai) (24.2)\n",
      "Requirement already satisfied: pydantic<3.0.0,>=2.5.2 in /opt/anaconda3/envs/py311/lib/python3.11/site-packages (from langchain-core<0.4.0,>=0.3.29->langchain-openai) (2.10.5)\n",
      "Requirement already satisfied: tenacity!=8.4.0,<10.0.0,>=8.1.0 in /opt/anaconda3/envs/py311/lib/python3.11/site-packages (from langchain-core<0.4.0,>=0.3.29->langchain-openai) (9.0.0)\n",
      "Requirement already satisfied: typing-extensions>=4.7 in /opt/anaconda3/envs/py311/lib/python3.11/site-packages (from langchain-core<0.4.0,>=0.3.29->langchain-openai) (4.12.2)\n",
      "Requirement already satisfied: anyio<5,>=3.5.0 in /opt/anaconda3/envs/py311/lib/python3.11/site-packages (from openai<2.0.0,>=1.58.1->langchain-openai) (4.8.0)\n",
      "Requirement already satisfied: distro<2,>=1.7.0 in /opt/anaconda3/envs/py311/lib/python3.11/site-packages (from openai<2.0.0,>=1.58.1->langchain-openai) (1.9.0)\n",
      "Requirement already satisfied: httpx<1,>=0.23.0 in /opt/anaconda3/envs/py311/lib/python3.11/site-packages (from openai<2.0.0,>=1.58.1->langchain-openai) (0.28.1)\n",
      "Requirement already satisfied: jiter<1,>=0.4.0 in /opt/anaconda3/envs/py311/lib/python3.11/site-packages (from openai<2.0.0,>=1.58.1->langchain-openai) (0.8.2)\n",
      "Requirement already satisfied: sniffio in /opt/anaconda3/envs/py311/lib/python3.11/site-packages (from openai<2.0.0,>=1.58.1->langchain-openai) (1.3.1)\n",
      "Requirement already satisfied: tqdm>4 in /opt/anaconda3/envs/py311/lib/python3.11/site-packages (from openai<2.0.0,>=1.58.1->langchain-openai) (4.67.1)\n",
      "Requirement already satisfied: regex>=2022.1.18 in /opt/anaconda3/envs/py311/lib/python3.11/site-packages (from tiktoken<1,>=0.7->langchain-openai) (2024.11.6)\n",
      "Requirement already satisfied: requests>=2.26.0 in /opt/anaconda3/envs/py311/lib/python3.11/site-packages (from tiktoken<1,>=0.7->langchain-openai) (2.32.3)\n",
      "Requirement already satisfied: idna>=2.8 in /opt/anaconda3/envs/py311/lib/python3.11/site-packages (from anyio<5,>=3.5.0->openai<2.0.0,>=1.58.1->langchain-openai) (3.10)\n",
      "Requirement already satisfied: certifi in /opt/anaconda3/envs/py311/lib/python3.11/site-packages (from httpx<1,>=0.23.0->openai<2.0.0,>=1.58.1->langchain-openai) (2024.12.14)\n",
      "Requirement already satisfied: httpcore==1.* in /opt/anaconda3/envs/py311/lib/python3.11/site-packages (from httpx<1,>=0.23.0->openai<2.0.0,>=1.58.1->langchain-openai) (1.0.7)\n",
      "Requirement already satisfied: h11<0.15,>=0.13 in /opt/anaconda3/envs/py311/lib/python3.11/site-packages (from httpcore==1.*->httpx<1,>=0.23.0->openai<2.0.0,>=1.58.1->langchain-openai) (0.14.0)\n",
      "Requirement already satisfied: jsonpointer>=1.9 in /opt/anaconda3/envs/py311/lib/python3.11/site-packages (from jsonpatch<2.0,>=1.33->langchain-core<0.4.0,>=0.3.29->langchain-openai) (3.0.0)\n",
      "Requirement already satisfied: orjson<4.0.0,>=3.9.14 in /opt/anaconda3/envs/py311/lib/python3.11/site-packages (from langsmith<0.3,>=0.1.125->langchain-core<0.4.0,>=0.3.29->langchain-openai) (3.10.14)\n",
      "Requirement already satisfied: requests-toolbelt<2.0.0,>=1.0.0 in /opt/anaconda3/envs/py311/lib/python3.11/site-packages (from langsmith<0.3,>=0.1.125->langchain-core<0.4.0,>=0.3.29->langchain-openai) (1.0.0)\n",
      "Requirement already satisfied: annotated-types>=0.6.0 in /opt/anaconda3/envs/py311/lib/python3.11/site-packages (from pydantic<3.0.0,>=2.5.2->langchain-core<0.4.0,>=0.3.29->langchain-openai) (0.7.0)\n",
      "Requirement already satisfied: pydantic-core==2.27.2 in /opt/anaconda3/envs/py311/lib/python3.11/site-packages (from pydantic<3.0.0,>=2.5.2->langchain-core<0.4.0,>=0.3.29->langchain-openai) (2.27.2)\n",
      "Requirement already satisfied: charset-normalizer<4,>=2 in /opt/anaconda3/envs/py311/lib/python3.11/site-packages (from requests>=2.26.0->tiktoken<1,>=0.7->langchain-openai) (3.4.1)\n",
      "Requirement already satisfied: urllib3<3,>=1.21.1 in /opt/anaconda3/envs/py311/lib/python3.11/site-packages (from requests>=2.26.0->tiktoken<1,>=0.7->langchain-openai) (2.3.0)\n",
      "Collecting langchain-ollama\n",
      "  Downloading langchain_ollama-0.2.2-py3-none-any.whl.metadata (1.9 kB)\n",
      "Requirement already satisfied: langchain-core<0.4.0,>=0.3.27 in /opt/anaconda3/envs/py311/lib/python3.11/site-packages (from langchain-ollama) (0.3.29)\n",
      "Collecting ollama<1,>=0.4.4 (from langchain-ollama)\n",
      "  Using cached ollama-0.4.5-py3-none-any.whl.metadata (4.7 kB)\n",
      "Requirement already satisfied: PyYAML>=5.3 in /opt/anaconda3/envs/py311/lib/python3.11/site-packages (from langchain-core<0.4.0,>=0.3.27->langchain-ollama) (6.0.2)\n",
      "Requirement already satisfied: jsonpatch<2.0,>=1.33 in /opt/anaconda3/envs/py311/lib/python3.11/site-packages (from langchain-core<0.4.0,>=0.3.27->langchain-ollama) (1.33)\n",
      "Requirement already satisfied: langsmith<0.3,>=0.1.125 in /opt/anaconda3/envs/py311/lib/python3.11/site-packages (from langchain-core<0.4.0,>=0.3.27->langchain-ollama) (0.2.10)\n",
      "Requirement already satisfied: packaging<25,>=23.2 in /opt/anaconda3/envs/py311/lib/python3.11/site-packages (from langchain-core<0.4.0,>=0.3.27->langchain-ollama) (24.2)\n",
      "Requirement already satisfied: pydantic<3.0.0,>=2.5.2 in /opt/anaconda3/envs/py311/lib/python3.11/site-packages (from langchain-core<0.4.0,>=0.3.27->langchain-ollama) (2.10.5)\n",
      "Requirement already satisfied: tenacity!=8.4.0,<10.0.0,>=8.1.0 in /opt/anaconda3/envs/py311/lib/python3.11/site-packages (from langchain-core<0.4.0,>=0.3.27->langchain-ollama) (9.0.0)\n",
      "Requirement already satisfied: typing-extensions>=4.7 in /opt/anaconda3/envs/py311/lib/python3.11/site-packages (from langchain-core<0.4.0,>=0.3.27->langchain-ollama) (4.12.2)\n",
      "Collecting httpx<0.28.0,>=0.27.0 (from ollama<1,>=0.4.4->langchain-ollama)\n",
      "  Using cached httpx-0.27.2-py3-none-any.whl.metadata (7.1 kB)\n",
      "Requirement already satisfied: anyio in /opt/anaconda3/envs/py311/lib/python3.11/site-packages (from httpx<0.28.0,>=0.27.0->ollama<1,>=0.4.4->langchain-ollama) (4.8.0)\n",
      "Requirement already satisfied: certifi in /opt/anaconda3/envs/py311/lib/python3.11/site-packages (from httpx<0.28.0,>=0.27.0->ollama<1,>=0.4.4->langchain-ollama) (2024.12.14)\n",
      "Requirement already satisfied: httpcore==1.* in /opt/anaconda3/envs/py311/lib/python3.11/site-packages (from httpx<0.28.0,>=0.27.0->ollama<1,>=0.4.4->langchain-ollama) (1.0.7)\n",
      "Requirement already satisfied: idna in /opt/anaconda3/envs/py311/lib/python3.11/site-packages (from httpx<0.28.0,>=0.27.0->ollama<1,>=0.4.4->langchain-ollama) (3.10)\n",
      "Requirement already satisfied: sniffio in /opt/anaconda3/envs/py311/lib/python3.11/site-packages (from httpx<0.28.0,>=0.27.0->ollama<1,>=0.4.4->langchain-ollama) (1.3.1)\n",
      "Requirement already satisfied: h11<0.15,>=0.13 in /opt/anaconda3/envs/py311/lib/python3.11/site-packages (from httpcore==1.*->httpx<0.28.0,>=0.27.0->ollama<1,>=0.4.4->langchain-ollama) (0.14.0)\n",
      "Requirement already satisfied: jsonpointer>=1.9 in /opt/anaconda3/envs/py311/lib/python3.11/site-packages (from jsonpatch<2.0,>=1.33->langchain-core<0.4.0,>=0.3.27->langchain-ollama) (3.0.0)\n",
      "Requirement already satisfied: orjson<4.0.0,>=3.9.14 in /opt/anaconda3/envs/py311/lib/python3.11/site-packages (from langsmith<0.3,>=0.1.125->langchain-core<0.4.0,>=0.3.27->langchain-ollama) (3.10.14)\n",
      "Requirement already satisfied: requests<3,>=2 in /opt/anaconda3/envs/py311/lib/python3.11/site-packages (from langsmith<0.3,>=0.1.125->langchain-core<0.4.0,>=0.3.27->langchain-ollama) (2.32.3)\n",
      "Requirement already satisfied: requests-toolbelt<2.0.0,>=1.0.0 in /opt/anaconda3/envs/py311/lib/python3.11/site-packages (from langsmith<0.3,>=0.1.125->langchain-core<0.4.0,>=0.3.27->langchain-ollama) (1.0.0)\n",
      "Requirement already satisfied: annotated-types>=0.6.0 in /opt/anaconda3/envs/py311/lib/python3.11/site-packages (from pydantic<3.0.0,>=2.5.2->langchain-core<0.4.0,>=0.3.27->langchain-ollama) (0.7.0)\n",
      "Requirement already satisfied: pydantic-core==2.27.2 in /opt/anaconda3/envs/py311/lib/python3.11/site-packages (from pydantic<3.0.0,>=2.5.2->langchain-core<0.4.0,>=0.3.27->langchain-ollama) (2.27.2)\n",
      "Requirement already satisfied: charset-normalizer<4,>=2 in /opt/anaconda3/envs/py311/lib/python3.11/site-packages (from requests<3,>=2->langsmith<0.3,>=0.1.125->langchain-core<0.4.0,>=0.3.27->langchain-ollama) (3.4.1)\n",
      "Requirement already satisfied: urllib3<3,>=1.21.1 in /opt/anaconda3/envs/py311/lib/python3.11/site-packages (from requests<3,>=2->langsmith<0.3,>=0.1.125->langchain-core<0.4.0,>=0.3.27->langchain-ollama) (2.3.0)\n",
      "Downloading langchain_ollama-0.2.2-py3-none-any.whl (18 kB)\n",
      "Using cached ollama-0.4.5-py3-none-any.whl (13 kB)\n",
      "Using cached httpx-0.27.2-py3-none-any.whl (76 kB)\n",
      "Installing collected packages: httpx, ollama, langchain-ollama\n",
      "  Attempting uninstall: httpx\n",
      "    Found existing installation: httpx 0.28.1\n",
      "    Uninstalling httpx-0.28.1:\n",
      "      Successfully uninstalled httpx-0.28.1\n",
      "Successfully installed httpx-0.27.2 langchain-ollama-0.2.2 ollama-0.4.5\n"
     ]
    }
   ],
   "source": [
    "# !pip -q install openai langchain huggingface_hub\n",
    "!pip uninstall langchain -y\n",
    "!pip install langchain\n",
    "!pip install -qU langchain-openai\n",
    "!python --version\n",
    "!pip install langchain-openai\n",
    "!pip install -U langchain-ollama\n",
    "!pip install -qU langchain_community beautifulsoup4\n",
    "!pip install faiss-cpu"
   ]
  },
  {
   "cell_type": "code",
   "execution_count": 5,
   "id": "a52608c8-1857-4aaf-8541-d5a8c97d83ce",
   "metadata": {},
   "outputs": [
    {
     "name": "stdout",
     "output_type": "stream",
     "text": [
      "Python 3.10.16\n"
     ]
    }
   ],
   "source": [
    "# from langgraph.graph import StateGraph,START,END\n",
    "# from langgraph.graph.message import add_messages\n",
    "\n",
    "# from typing_extensions import TypedDict\n",
    "# from typing import Annotated\n",
    "\n",
    "# from IPython.display import Image, display\n",
    "# !python --version"
   ]
  },
  {
   "cell_type": "code",
   "execution_count": 17,
   "id": "03b43e70-c2e5-4012-8bfe-f5ea833f9a82",
   "metadata": {},
   "outputs": [],
   "source": [
    "import os\n"
   ]
  },
  {
   "cell_type": "code",
   "execution_count": 1,
   "id": "e565115e-5350-4faf-9f4f-2074daca05ce",
   "metadata": {},
   "outputs": [],
   "source": [
    "\n",
    "from langchain_core.prompts import ChatPromptTemplate\n",
    "from langchain_ollama.llms import OllamaLLM\n"
   ]
  },
  {
   "cell_type": "code",
   "execution_count": 2,
   "id": "48f91e26-6afd-4afc-85ba-c7898764a083",
   "metadata": {},
   "outputs": [],
   "source": [
    "template = \"\"\"Question: {question}\n",
    "\n",
    "Answer: let me explain it step by step\"\"\"\n",
    "\n",
    "prompt = ChatPromptTemplate.from_template(template)\n",
    "prompt\n",
    "\n",
    "prompt1 = ChatPromptTemplate.from_messages(\n",
    "    [\n",
    "        (\"system\", \"You are a ufc fighter, explain how to perform the following move\"),\n",
    "        (\"human\",\"{input}\")\n",
    "    ]\n",
    ")"
   ]
  },
  {
   "cell_type": "code",
   "execution_count": 3,
   "id": "2b0e871b-94ea-4c7e-bec1-4b423ae6da34",
   "metadata": {
    "scrolled": true
   },
   "outputs": [],
   "source": [
    "model = OllamaLLM(model=\"llama3.2\")\n",
    "\n",
    "chain = prompt1 | model\n",
    "\n"
   ]
  },
  {
   "cell_type": "code",
   "execution_count": 56,
   "id": "c6bd4f24-3867-498c-9e9b-5d05edc38a8f",
   "metadata": {},
   "outputs": [],
   "source": [
    "res=chain.invoke({\"input\": \"caf kick\"})"
   ]
  },
  {
   "cell_type": "code",
   "execution_count": 59,
   "id": "68a94cd0-aa95-4193-b14f-4a2e6e3fb661",
   "metadata": {},
   "outputs": [
    {
     "name": "stdout",
     "output_type": "stream",
     "text": [
      "The Caf Kick. It's a classic Muay Thai technique that can be devastating in the right hands.\n",
      "\n",
      "First, you need to understand the basics of Muay Thai and how it applies to the Cafe Kick. The Cafe Kick is a type of roundhouse kick that targets the knee area. To perform this move effectively, follow these steps:\n",
      "\n",
      "**Setup**\n",
      "\n",
      "1. Begin by standing with your feet shoulder-width apart, with your dominant foot forward (for most people, this means right foot). Keep your knees slightly bent and your weight evenly distributed between both feet.\n",
      "2. Position yourself at an angle to the target, with your lead leg pointing towards the opponent's knee area.\n",
      "\n",
      "**Execution**\n",
      "\n",
      "1. Start by rotating your hips and generating power from your core. This will help you generate torque for the kick.\n",
      "2. As you begin to rotate, extend your back leg (the one behind you) and transfer your weight onto it. Keep your front leg straight and your foot flexed.\n",
      "3. Use your lead leg to drive the kick, keeping it in a 45-degree angle with your target's knee area.\n",
      "4. Snap your back leg outwards, extending it fully while maintaining control over your front leg.\n",
      "5. Aim for the top of the opponent's kneecap or just above it.\n",
      "\n",
      "**Key Points**\n",
      "\n",
      "* Keep your hands up and your chin tucked to protect yourself from any incoming strikes.\n",
      "* Use your body weight to generate power for the kick.\n",
      "* Focus on quick, sharp movement to achieve maximum impact.\n",
      "* Practice the Cafe Kick in front of a mirror to ensure proper technique and form.\n",
      "\n",
      "Remember, mastering the Cafe Kick takes time and practice. Be patient and focus on developing your Muay Thai skills. With dedication and persistence, you'll be able to execute this move with precision and power.\n"
     ]
    }
   ],
   "source": [
    "print(res)\n"
   ]
  },
  {
   "cell_type": "markdown",
   "id": "d17fa5ee-4e5b-41a5-a6ae-6df56b1b5c92",
   "metadata": {},
   "source": [
    "# doc loader"
   ]
  },
  {
   "cell_type": "code",
   "execution_count": 22,
   "id": "d9f43ca4-5627-40c5-8a4b-f832e7c90de2",
   "metadata": {},
   "outputs": [
    {
     "name": "stdout",
     "output_type": "stream",
     "text": [
      "Requirement already satisfied: python-dotenv in /opt/anaconda3/envs/py311/lib/python3.11/site-packages (1.0.1)\n"
     ]
    }
   ],
   "source": [
    "!pip install python-dotenv"
   ]
  },
  {
   "cell_type": "code",
   "execution_count": null,
   "id": "6e8dcef7-58cc-431e-938e-425eb437a420",
   "metadata": {},
   "outputs": [],
   "source": []
  },
  {
   "cell_type": "code",
   "execution_count": 26,
   "id": "d6e26ff2-a6b7-4931-b749-f2e9f43d247c",
   "metadata": {},
   "outputs": [
    {
     "name": "stdout",
     "output_type": "stream",
     "text": [
      "Number of chunks: 8\n"
     ]
    },
    {
     "data": {
      "text/plain": [
       "[Document(metadata={'source': 'https://www.apple.com', 'title': 'Apple', 'language': 'en-US'}, page_content='Apple\\n\\n\\n\\n\\n\\n\\n\\n\\n\\n\\n\\n\\n\\n\\n\\n\\n\\n\\nApple\\n\\nAppleStoreMaciPadiPhoneWatch\\nVisionAirPodsTV & HomeEntertainmentAccessoriesSupport\\n\\n\\n0+\\n\\n\\n\\n\\n\\n\\n\\n\\xa0\\n\\niPhone 16 Pro\\nHello, Apple\\xa0Intelligence.\\n\\nLearn more\\nBuy\\n\\n\\n\\n\\n\\n\\n\\n\\n\\n\\n\\n\\n\\xa0\\n\\niPhone 16\\nHello, Apple\\xa0Intelligence.\\n\\nLearn more\\nBuy\\n\\n\\n\\n\\n\\n\\n\\n\\n\\n\\n\\n\\n\\xa0\\n\\nApple Watch Series 10\\nThinstant classic.\\n\\nLearn more\\nBuy\\n\\n\\n\\n\\n\\n\\n\\n\\n\\n\\n\\n\\n\\n\\n\\xa0\\n\\nApple Fitness+\\nFitness for everyone. Personalized for you.\\nGet up to 3 months on us.1\\n\\nLearn more\\nTry it free\\n\\n\\n\\n\\n\\n\\n\\n\\n\\n\\n\\n\\n\\xa0\\n\\n\\niPad Air\\nTwo sizes. Faster chip. Does it all.\\n\\nLearn more\\nBuy\\n\\n\\n\\nHello, Apple Intelligence.\\n\\n\\n\\n\\n\\n\\n\\n\\n\\n\\n\\n\\n\\xa0\\n\\n\\nMacBook Pro\\nA work of smart.\\n\\nLearn more\\nBuy\\n\\n\\n\\nHello, Apple Intelligence.\\n\\n\\n\\n\\n\\n\\n\\n\\n\\n\\n\\n\\n\\xa0\\n\\nApple Watch Ultra 2\\nNew finish. Never quit.\\n\\nLearn more\\nBuy\\n\\n\\n\\n\\n\\n\\n\\n\\n\\n\\n\\n\\n\\xa0\\n\\nApple Trade In\\nGet $180–$650 in credit when you trade in iPhone\\xa012 or higher.2\\n\\nGet your estimate\\n\\n\\n\\n\\n\\n\\n\\n\\n\\n\\n\\n\\n\\xa0\\n\\nApple Card\\nGet up to 3% Daily\\xa0Cash back with every purchase.\\n\\nLearn more\\nApply now\\nApply now\\n\\n\\n\\n\\n\\n\\n\\n\\n\\n\\n\\n\\n\\n\\nApple TV+'),\n",
       " Document(metadata={'source': 'https://www.apple.com', 'title': 'Apple', 'language': 'en-US'}, page_content='FAM Gallery\\n\\n\\n\\n\\n\\nListen now\\n\\n\\n\\n\\nBad Bunny: The Zane Lowe Interview\\n\\n\\n\\n\\n\\nPlay now\\n\\n\\n\\nNBA 2K25 Arcade Edition\\n\\n\\n\\n\\n\\nWatch now\\n\\n\\n\\nLevel Up Your Core Training\\n\\n\\n\\n\\n\\nListen now\\n\\n\\n\\n\\nRap Life\\n\\n\\n\\n\\n\\nPlay now\\n\\n\\n\\nHello Kitty Island Adventure\\n\\n\\n\\n\\n\\nWatch now\\n\\n\\n\\nStrength with Gregg\\n\\n\\n\\n\\n\\n\\n\\n\\n\\n\\n\\n\\nApple Footer\\n\\n\\n1. Offer available to new subscribers who purchase an eligible device. $9.99/month after trial. Only one offer per Apple\\xa0Account and only one offer per family if you’re part of a Family\\xa0Sharing group, regardless of the number of devices you or your family purchases. This offer is not available if you or your family have previously subscribed to Apple\\xa0Fitness+. Offer good for 3 months after eligible device activation. Plan automatically renews until cancelled. Restrictions and other terms apply.\\n\\nA subscription is required for Apple\\xa0Fitness+. Apple\\xa0Fitness+ requires iPhone\\xa08 or later, or Apple\\xa0Watch Series\\xa03 or later paired with an iPhone\\xa06s or later.')]"
      ]
     },
     "execution_count": 26,
     "metadata": {},
     "output_type": "execute_result"
    }
   ],
   "source": [
    "\n",
    "from langchain_community.document_loaders import WebBaseLoader\n",
    "from langchain_core.prompts import ChatPromptTemplate\n",
    "from langchain_ollama.llms import OllamaLLM\n",
    "from langchain.chains.combine_documents import create_stuff_documents_chain\n",
    "from langchain.text_splitter import RecursiveCharacterTextSplitter\n",
    "from langchain_ollama import OllamaEmbeddings\n",
    "from langchain_community.vectorstores import FAISS\n",
    "from dotenv import load_dotenv\n",
    "import os\n",
    "\n",
    "# Load environment variables from the .env file\n",
    "load_dotenv()\n",
    "LANGSMITH_TRACING = os.getenv('LANGSMITH_TRACING')\n",
    "LANGSMITH_ENDPOINT = os.getenv('LANGSMITH_ENDPOINT')\n",
    "LANGSMITH_API_KEY = os.getenv('LANGSMITH_API_KEY')\n",
    "\n",
    "\n",
    "def text_to_embeddings(docs):\n",
    "    embeddings_model = OllamaEmbeddings(model=\"llama3.2\") \n",
    "    embeddings = [embeddings_model.embed_query(chunk.page_content) for chunk in docs]\n",
    "\n",
    "def web_doc_loader(url:str,chunk_size=1000,chunk_overlap=0):\n",
    "    \n",
    "    loader = WebBaseLoader(url)\n",
    "    docs1=loader.load()\n",
    "    splitter = RecursiveCharacterTextSplitter(\n",
    "        chunk_size=chunk_size,\n",
    "        chunk_overlap=chunk_overlap\n",
    "    )\n",
    "    split_docs=splitter.split_documents(docs1)\n",
    "    print(f\"Number of chunks: {len(split_docs)}\")\n",
    "\n",
    "    # Initialize Ollama embeddings\n",
    "   \n",
    "     # Generate embeddings for each chunk\n",
    "    \n",
    "\n",
    "    # Optionally, return both the chunks and their embeddings\n",
    "    return split_docs\n",
    "    \n",
    "\n",
    "url=\"https://www.apple.com\"\n",
    "split_docs = web_doc_loader(url)\n",
    "embeddings=text_to_embeddings(split_docs)\n",
    "split_docs[:2]"
   ]
  },
  {
   "cell_type": "code",
   "execution_count": 27,
   "id": "03363c88-3b5b-428f-8dbf-5bf54254fabf",
   "metadata": {},
   "outputs": [],
   "source": [
    "from langchain.chains import create_retrieval_chain\n",
    "from langchain_core.prompts import MessagesPlaceholder\n",
    "def to_vector_store(docs):\n",
    "\n",
    "    embeddings_model = OllamaEmbeddings(model=\"llama3.2\")  \n",
    "    vector_store = FAISS.from_documents(docs, embeddings_model)\n",
    "    return vector_store\n",
    "\n",
    "def create_chain(vector_store):\n",
    "\n",
    "    # template = \"\"\"Answer the following question of the user only from the context\n",
    "    # Context:{context},\n",
    "    # Question: {input}\"\"\"\n",
    "\n",
    "    promptdoc = ChatPromptTemplate.from_messages([\n",
    "        (\"system\",\"Answer the following question only using the {context}\"),\n",
    "        MessagesPlaceholder(variable_name=\"chat_history\"),\n",
    "        (\"human\",\"{input}\")\n",
    "    ])\n",
    "\n",
    "    # promptdoc = ChatPromptTemplate.from_template(template)\n",
    "    model = OllamaLLM(model=\"llama3.2\")\n",
    "    chain = create_stuff_documents_chain(llm=model,prompt=promptdoc)\n",
    "    \n",
    "    retriever = vector_store.as_retriever()\n",
    "    retreival_chain=create_retrieval_chain(retriever,chain)\n",
    "    return retreival_chain\n",
    "\n",
    "def process_chat(retreival_chain,question,chat_history):\n",
    "    \n",
    "    res = retreival_chain.invoke({\n",
    "    \"chat_history\":chat_history,\n",
    "    \"input\": question\n",
    "    })\n",
    "    return res[\"answer\"]\n",
    "    \n",
    "\n",
    "    \n",
    "vector_store=to_vector_store(split_docs)\n",
    "retreival_chain=create_chain(vector_store)\n",
    "\n",
    "# process_chat(retreival_chain,\"whats the specs of the iphone\")\n",
    "\n",
    "\n"
   ]
  },
  {
   "cell_type": "markdown",
   "id": "c55df080-269e-4afd-8ac2-bed9bc7fe393",
   "metadata": {},
   "source": [
    "# following input"
   ]
  },
  {
   "cell_type": "code",
   "execution_count": null,
   "id": "6b5f24a9-60c5-439d-90dd-42e6bfd1b802",
   "metadata": {},
   "outputs": [
    {
     "name": "stdin",
     "output_type": "stream",
     "text": [
      "\n",
      " you-> hello\n"
     ]
    },
    {
     "name": "stdout",
     "output_type": "stream",
     "text": [
      "\n",
      " Asistant->Hello! It seems like you're looking for information about Apple Card or trade-in options. Is there something specific you'd like to know?\n"
     ]
    }
   ],
   "source": [
    "from langchain_core.messages import HumanMessage, AIMessage\n",
    "chat_history=[\n",
    "\n",
    "]\n",
    "\n",
    "while True:\n",
    "    inp=input(\"\\n you->\")\n",
    "    if inp.lower()==\"q\":\n",
    "        print(\"Goodbye\")\n",
    "        break\n",
    "    try:\n",
    "        \n",
    "        response = process_chat(retreival_chain,inp,chat_history)\n",
    "        chat_history.append(HumanMessage(content=inp))\n",
    "        chat_history.append(AIMessage(content=response))\n",
    "        print(\"\\n Asistant->\"+response)\n",
    "    except Exception as e:\n",
    "        print(f\"Error2: {e}\")"
   ]
  },
  {
   "cell_type": "code",
   "execution_count": null,
   "id": "c855daa0-f1ce-4d92-9f48-19406c7f4a76",
   "metadata": {},
   "outputs": [],
   "source": []
  },
  {
   "cell_type": "code",
   "execution_count": null,
   "id": "8b20c5f0-a07c-4f69-932a-bfc669fdff73",
   "metadata": {},
   "outputs": [],
   "source": []
  },
  {
   "cell_type": "code",
   "execution_count": 31,
   "id": "e7692dbd-992f-4769-a590-555a7a5d6291",
   "metadata": {},
   "outputs": [
    {
     "name": "stdout",
     "output_type": "stream",
     "text": [
      "8 4\n"
     ]
    }
   ],
   "source": [
    "print(len(split_docs), len(res['context']))"
   ]
  },
  {
   "cell_type": "code",
   "execution_count": 77,
   "id": "ef900cd3-c7a2-4b20-8dbd-b3d40b5be679",
   "metadata": {},
   "outputs": [],
   "source": [
    "#chain = promptdoc | model\n",
    "chain = create_stuff_documents_chain(llm=model,prompt=promptdoc)\n",
    "res=chain.invoke({\"question\": \"specs of the new iphone\",\"context\":ap_docs})"
   ]
  },
  {
   "cell_type": "code",
   "execution_count": 86,
   "id": "e40efff6-5e84-44dd-9441-45d2fbb1daab",
   "metadata": {},
   "outputs": [],
   "source": [
    "\n",
    "ap_docs = web_doc_loader(url)\n",
    "template = \"\"\"Answer the following question of the user only from the context\n",
    "Context:{context},\n",
    "Question: {question}\"\"\"\n",
    "\n",
    "promptdoc = ChatPromptTemplate.from_template(template)\n",
    "\n",
    "model = OllamaLLM(model=\"llama3.2\")\n",
    "\n",
    "chain = promptdoc | model\n",
    "\n",
    "res=chain.invoke({\"question\": \"specs of the new iphone\",\"context\":[ap_docs]})"
   ]
  },
  {
   "cell_type": "code",
   "execution_count": null,
   "id": "ac307874-3e12-4587-a88d-e7f74a6fb0e5",
   "metadata": {},
   "outputs": [],
   "source": []
  }
 ],
 "metadata": {
  "kernelspec": {
   "display_name": "py311",
   "language": "python",
   "name": "py311"
  },
  "language_info": {
   "codemirror_mode": {
    "name": "ipython",
    "version": 3
   },
   "file_extension": ".py",
   "mimetype": "text/x-python",
   "name": "python",
   "nbconvert_exporter": "python",
   "pygments_lexer": "ipython3",
   "version": "3.11.11"
  }
 },
 "nbformat": 4,
 "nbformat_minor": 5
}
